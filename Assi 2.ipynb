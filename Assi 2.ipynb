{
 "cells": [
  {
   "cell_type": "raw",
   "id": "a5690da6-dce6-461a-8e4a-0b5b7400094f",
   "metadata": {},
   "source": [
    "Q1. How do you comment code in Python? What are the different types of comments?"
   ]
  },
  {
   "cell_type": "raw",
   "id": "17efc3e6-a07b-47f2-8b06-8034a620a248",
   "metadata": {},
   "source": [
    "with using of # and \"\"\" or ''' we add comment code , \n",
    "# use for single line comment\n",
    "\"\"\" or ''' use for multiline comment"
   ]
  },
  {
   "cell_type": "markdown",
   "id": "25a6d8c4-4263-4dbe-95ae-5c66a25e5c8f",
   "metadata": {},
   "source": [
    "Q2. What are variables in Python? How do you declare and assign values to variables?"
   ]
  },
  {
   "cell_type": "raw",
   "id": "78c8b427-bca0-47cd-b219-20d0154bbf19",
   "metadata": {},
   "source": [
    "Variable are used to store and reference data (value), it's start from letter or underscore but not with any number or special characters\n",
    "to assign value to variable can be use = sign"
   ]
  },
  {
   "cell_type": "raw",
   "id": "de8b85f3-da1b-49f2-81ff-edd09d2f47cc",
   "metadata": {},
   "source": [
    "Q3. How do you convert one data type to another in Python?"
   ]
  },
  {
   "cell_type": "raw",
   "id": "165ba443-2ece-428d-a67f-bc3fd3748994",
   "metadata": {},
   "source": [
    "with use of inbuilt function like int(), str(), float()"
   ]
  },
  {
   "cell_type": "raw",
   "id": "963b5a78-461d-4865-bd77-1bf94a4f64fd",
   "metadata": {},
   "source": [
    "Q4. How do you write and execute a Python script from the command line?"
   ]
  },
  {
   "cell_type": "raw",
   "id": "966bf206-7110-46b4-bfd1-912ccadb18bc",
   "metadata": {},
   "source": [
    "write command in line and click on plan button or use shift + enter"
   ]
  },
  {
   "cell_type": "raw",
   "id": "409ee87a-a080-4de6-a394-c037c2624bf6",
   "metadata": {},
   "source": [
    "Q5. Given a list my_list = [1, 2, 3, 4, 5], write the code to slice the list and obtain the sub-list [2, 3]."
   ]
  },
  {
   "cell_type": "code",
   "execution_count": 2,
   "id": "fed077a9-b4f1-46f5-b3a5-78c9bc583949",
   "metadata": {},
   "outputs": [],
   "source": [
    "my_list = [1, 2, 3, 4, 5]"
   ]
  },
  {
   "cell_type": "code",
   "execution_count": 4,
   "id": "ecf69bdd-7f05-45b4-afe9-ff3d6629d92d",
   "metadata": {},
   "outputs": [
    {
     "data": {
      "text/plain": [
       "[2, 3]"
      ]
     },
     "execution_count": 4,
     "metadata": {},
     "output_type": "execute_result"
    }
   ],
   "source": [
    "my_list[1:3]"
   ]
  },
  {
   "cell_type": "raw",
   "id": "e680c168-5304-47b5-b87d-1634125d633e",
   "metadata": {},
   "source": [
    "Q6. What is a complex number in mathematics, and how is it represented in Python?"
   ]
  },
  {
   "cell_type": "raw",
   "id": "d1ea2883-8615-44e8-9624-682a0b2331e4",
   "metadata": {},
   "source": [
    "combination of real and imaginary number where imaginary number is combined of j"
   ]
  },
  {
   "cell_type": "raw",
   "id": "1378f46c-78f5-4dff-80a1-c5163125f432",
   "metadata": {},
   "source": [
    "Q7. What is the correct way to declare a variable named age and assign the value 25 to it?"
   ]
  },
  {
   "cell_type": "code",
   "execution_count": 5,
   "id": "b541e53d-d648-4b87-bcf8-f2b4d428c4f4",
   "metadata": {},
   "outputs": [],
   "source": [
    "age = 25"
   ]
  },
  {
   "cell_type": "raw",
   "id": "7020d583-9624-4de4-8e45-1fcf9c5fbc1b",
   "metadata": {},
   "source": [
    "Q8. Declare a variable named price and assign the value 9.99 to it. What data type does this variable\n",
    "belong to?"
   ]
  },
  {
   "cell_type": "code",
   "execution_count": 6,
   "id": "a97c1244-5d54-4079-bb61-fac4d17aa227",
   "metadata": {},
   "outputs": [],
   "source": [
    "price = 9.99"
   ]
  },
  {
   "cell_type": "code",
   "execution_count": 7,
   "id": "f8452303-0813-49b1-acc9-7fcb2f011f6c",
   "metadata": {},
   "outputs": [
    {
     "data": {
      "text/plain": [
       "float"
      ]
     },
     "execution_count": 7,
     "metadata": {},
     "output_type": "execute_result"
    }
   ],
   "source": [
    "type(price)"
   ]
  },
  {
   "cell_type": "raw",
   "id": "8358b4d3-509e-4cc0-accc-3be802de7788",
   "metadata": {},
   "source": [
    "Q9. Create a variable named name and assign your full name to it as a string. How would you print the\n",
    "value of this variable?"
   ]
  },
  {
   "cell_type": "code",
   "execution_count": 9,
   "id": "062ee185-97e8-4cce-9648-3b83e49d5680",
   "metadata": {},
   "outputs": [],
   "source": [
    "name = \"Manish Thakkar\""
   ]
  },
  {
   "cell_type": "code",
   "execution_count": 10,
   "id": "f6c4f15a-079e-4ee5-a5b9-764c6507f338",
   "metadata": {},
   "outputs": [
    {
     "data": {
      "text/plain": [
       "'Manish Thakkar'"
      ]
     },
     "execution_count": 10,
     "metadata": {},
     "output_type": "execute_result"
    }
   ],
   "source": [
    "name"
   ]
  },
  {
   "cell_type": "raw",
   "id": "dc603a16-5da1-4899-a8b3-0698e030a01e",
   "metadata": {},
   "source": [
    "Q10. Given the string \"Hello, World!\", extract the substring \"World\"."
   ]
  },
  {
   "cell_type": "code",
   "execution_count": 11,
   "id": "8d7431c7-e322-4ee9-bc11-464b34e3285e",
   "metadata": {},
   "outputs": [],
   "source": [
    "b = \"Hello, World!\""
   ]
  },
  {
   "cell_type": "code",
   "execution_count": 17,
   "id": "4fab5aed-ac51-4f9a-bac3-a0c40ec9e078",
   "metadata": {},
   "outputs": [
    {
     "data": {
      "text/plain": [
       "'World'"
      ]
     },
     "execution_count": 17,
     "metadata": {},
     "output_type": "execute_result"
    }
   ],
   "source": [
    "b[7:12]"
   ]
  },
  {
   "cell_type": "raw",
   "id": "3714566f-82f1-4aba-b38b-162f8d691566",
   "metadata": {},
   "source": [
    "Q11. Create a variable named \"is_student\" and assign it a boolean value indicating whether you are\n",
    "currently a student or not."
   ]
  },
  {
   "cell_type": "code",
   "execution_count": 18,
   "id": "62448da0-f367-4c11-b8f7-e11b2edbf638",
   "metadata": {},
   "outputs": [],
   "source": [
    "is_student = False"
   ]
  },
  {
   "cell_type": "code",
   "execution_count": 19,
   "id": "856d15cb-9124-460d-b4d9-1452cc0777c1",
   "metadata": {},
   "outputs": [
    {
     "data": {
      "text/plain": [
       "bool"
      ]
     },
     "execution_count": 19,
     "metadata": {},
     "output_type": "execute_result"
    }
   ],
   "source": [
    "type(is_student)"
   ]
  },
  {
   "cell_type": "code",
   "execution_count": null,
   "id": "b44d0a22-44d4-4f08-9c8a-1585cc03075f",
   "metadata": {},
   "outputs": [],
   "source": []
  }
 ],
 "metadata": {
  "kernelspec": {
   "display_name": "Python 3 (ipykernel)",
   "language": "python",
   "name": "python3"
  },
  "language_info": {
   "codemirror_mode": {
    "name": "ipython",
    "version": 3
   },
   "file_extension": ".py",
   "mimetype": "text/x-python",
   "name": "python",
   "nbconvert_exporter": "python",
   "pygments_lexer": "ipython3",
   "version": "3.10.8"
  }
 },
 "nbformat": 4,
 "nbformat_minor": 5
}
